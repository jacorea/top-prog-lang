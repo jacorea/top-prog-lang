{
 "cells": [
  {
   "cell_type": "code",
   "execution_count": 1,
   "id": "15ee1b9f",
   "metadata": {
    "_cell_guid": "b1076dfc-b9ad-4769-8c92-a6c4dae69d19",
    "_uuid": "8f2839f25d086af736a60e9eeb907d3b93b6e0e5",
    "execution": {
     "iopub.execute_input": "2023-10-05T23:29:54.217783Z",
     "iopub.status.busy": "2023-10-05T23:29:54.217430Z",
     "iopub.status.idle": "2023-10-05T23:29:54.557022Z",
     "shell.execute_reply": "2023-10-05T23:29:54.556070Z"
    },
    "papermill": {
     "duration": 0.346114,
     "end_time": "2023-10-05T23:29:54.559260",
     "exception": false,
     "start_time": "2023-10-05T23:29:54.213146",
     "status": "completed"
    },
    "tags": []
   },
   "outputs": [
    {
     "name": "stdout",
     "output_type": "stream",
     "text": [
      "/kaggle/input/popular-programming-lang-stackoverflow/QueryResults.csv\n"
     ]
    }
   ],
   "source": [
    "# This Python 3 environment comes with many helpful analytics libraries installed\n",
    "# It is defined by the kaggle/python Docker image: https://github.com/kaggle/docker-python\n",
    "# For example, here's several helpful packages to load\n",
    "\n",
    "import numpy as np # linear algebra\n",
    "import pandas as pd # data processing, CSV file I/O (e.g. pd.read_csv)\n",
    "\n",
    "# Input data files are available in the read-only \"../input/\" directory\n",
    "# For example, running this (by clicking run or pressing Shift+Enter) will list all files under the input directory\n",
    "\n",
    "import os\n",
    "for dirname, _, filenames in os.walk('/kaggle/input'):\n",
    "    for filename in filenames:\n",
    "        print(os.path.join(dirname, filename))\n",
    "\n",
    "# You can write up to 20GB to the current directory (/kaggle/working/) that gets preserved as output when you create a version using \"Save & Run All\" \n",
    "# You can also write temporary files to /kaggle/temp/, but they won't be saved outside of the current session"
   ]
  },
  {
   "cell_type": "code",
   "execution_count": 2,
   "id": "3caf9fda",
   "metadata": {
    "execution": {
     "iopub.execute_input": "2023-10-05T23:29:54.566625Z",
     "iopub.status.busy": "2023-10-05T23:29:54.566184Z",
     "iopub.status.idle": "2023-10-05T23:29:54.570279Z",
     "shell.execute_reply": "2023-10-05T23:29:54.569406Z"
    },
    "papermill": {
     "duration": 0.008925,
     "end_time": "2023-10-05T23:29:54.572161",
     "exception": false,
     "start_time": "2023-10-05T23:29:54.563236",
     "status": "completed"
    },
    "tags": []
   },
   "outputs": [],
   "source": [
    "import pandas as pd\n",
    "import numpy as np "
   ]
  },
  {
   "cell_type": "markdown",
   "id": "472141a6",
   "metadata": {
    "papermill": {
     "duration": 0.001866,
     "end_time": "2023-10-05T23:29:54.576151",
     "exception": false,
     "start_time": "2023-10-05T23:29:54.574285",
     "status": "completed"
    },
    "tags": []
   },
   "source": [
    "# Importing Dataset"
   ]
  },
  {
   "cell_type": "code",
   "execution_count": 3,
   "id": "b262315f",
   "metadata": {
    "execution": {
     "iopub.execute_input": "2023-10-05T23:29:54.581781Z",
     "iopub.status.busy": "2023-10-05T23:29:54.581254Z",
     "iopub.status.idle": "2023-10-05T23:29:54.599058Z",
     "shell.execute_reply": "2023-10-05T23:29:54.598354Z"
    },
    "papermill": {
     "duration": 0.022967,
     "end_time": "2023-10-05T23:29:54.601097",
     "exception": false,
     "start_time": "2023-10-05T23:29:54.578130",
     "status": "completed"
    },
    "tags": []
   },
   "outputs": [],
   "source": [
    "# column names \n",
    "colnames = ['DATE','TAG','POSTS']\n",
    "df = pd.read_csv('/kaggle/input/popular-programming-lang-stackoverflow/QueryResults.csv', names=colnames,header=0)"
   ]
  },
  {
   "cell_type": "code",
   "execution_count": 4,
   "id": "efae11f8",
   "metadata": {
    "execution": {
     "iopub.execute_input": "2023-10-05T23:29:54.607056Z",
     "iopub.status.busy": "2023-10-05T23:29:54.606552Z",
     "iopub.status.idle": "2023-10-05T23:29:54.623318Z",
     "shell.execute_reply": "2023-10-05T23:29:54.622385Z"
    },
    "papermill": {
     "duration": 0.021854,
     "end_time": "2023-10-05T23:29:54.625230",
     "exception": false,
     "start_time": "2023-10-05T23:29:54.603376",
     "status": "completed"
    },
    "tags": []
   },
   "outputs": [
    {
     "data": {
      "text/html": [
       "<div>\n",
       "<style scoped>\n",
       "    .dataframe tbody tr th:only-of-type {\n",
       "        vertical-align: middle;\n",
       "    }\n",
       "\n",
       "    .dataframe tbody tr th {\n",
       "        vertical-align: top;\n",
       "    }\n",
       "\n",
       "    .dataframe thead th {\n",
       "        text-align: right;\n",
       "    }\n",
       "</style>\n",
       "<table border=\"1\" class=\"dataframe\">\n",
       "  <thead>\n",
       "    <tr style=\"text-align: right;\">\n",
       "      <th></th>\n",
       "      <th>DATE</th>\n",
       "      <th>TAG</th>\n",
       "      <th>POSTS</th>\n",
       "    </tr>\n",
       "  </thead>\n",
       "  <tbody>\n",
       "    <tr>\n",
       "      <th>0</th>\n",
       "      <td>2008-07-01 00:00:00</td>\n",
       "      <td>c#</td>\n",
       "      <td>3</td>\n",
       "    </tr>\n",
       "    <tr>\n",
       "      <th>1</th>\n",
       "      <td>2008-08-01 00:00:00</td>\n",
       "      <td>assembly</td>\n",
       "      <td>8</td>\n",
       "    </tr>\n",
       "    <tr>\n",
       "      <th>2</th>\n",
       "      <td>2008-08-01 00:00:00</td>\n",
       "      <td>javascript</td>\n",
       "      <td>162</td>\n",
       "    </tr>\n",
       "    <tr>\n",
       "      <th>3</th>\n",
       "      <td>2008-08-01 00:00:00</td>\n",
       "      <td>c</td>\n",
       "      <td>85</td>\n",
       "    </tr>\n",
       "    <tr>\n",
       "      <th>4</th>\n",
       "      <td>2008-08-01 00:00:00</td>\n",
       "      <td>python</td>\n",
       "      <td>124</td>\n",
       "    </tr>\n",
       "  </tbody>\n",
       "</table>\n",
       "</div>"
      ],
      "text/plain": [
       "                  DATE         TAG  POSTS\n",
       "0  2008-07-01 00:00:00          c#      3\n",
       "1  2008-08-01 00:00:00    assembly      8\n",
       "2  2008-08-01 00:00:00  javascript    162\n",
       "3  2008-08-01 00:00:00           c     85\n",
       "4  2008-08-01 00:00:00      python    124"
      ]
     },
     "execution_count": 4,
     "metadata": {},
     "output_type": "execute_result"
    }
   ],
   "source": [
    "# beginning of dataset\n",
    "df.head()"
   ]
  },
  {
   "cell_type": "code",
   "execution_count": 5,
   "id": "1e6dcf69",
   "metadata": {
    "execution": {
     "iopub.execute_input": "2023-10-05T23:29:54.631734Z",
     "iopub.status.busy": "2023-10-05T23:29:54.631246Z",
     "iopub.status.idle": "2023-10-05T23:29:54.639352Z",
     "shell.execute_reply": "2023-10-05T23:29:54.638497Z"
    },
    "papermill": {
     "duration": 0.013306,
     "end_time": "2023-10-05T23:29:54.641166",
     "exception": false,
     "start_time": "2023-10-05T23:29:54.627860",
     "status": "completed"
    },
    "tags": []
   },
   "outputs": [
    {
     "data": {
      "text/html": [
       "<div>\n",
       "<style scoped>\n",
       "    .dataframe tbody tr th:only-of-type {\n",
       "        vertical-align: middle;\n",
       "    }\n",
       "\n",
       "    .dataframe tbody tr th {\n",
       "        vertical-align: top;\n",
       "    }\n",
       "\n",
       "    .dataframe thead th {\n",
       "        text-align: right;\n",
       "    }\n",
       "</style>\n",
       "<table border=\"1\" class=\"dataframe\">\n",
       "  <thead>\n",
       "    <tr style=\"text-align: right;\">\n",
       "      <th></th>\n",
       "      <th>DATE</th>\n",
       "      <th>TAG</th>\n",
       "      <th>POSTS</th>\n",
       "    </tr>\n",
       "  </thead>\n",
       "  <tbody>\n",
       "    <tr>\n",
       "      <th>1986</th>\n",
       "      <td>2020-07-01 00:00:00</td>\n",
       "      <td>r</td>\n",
       "      <td>5694</td>\n",
       "    </tr>\n",
       "    <tr>\n",
       "      <th>1987</th>\n",
       "      <td>2020-07-01 00:00:00</td>\n",
       "      <td>go</td>\n",
       "      <td>743</td>\n",
       "    </tr>\n",
       "    <tr>\n",
       "      <th>1988</th>\n",
       "      <td>2020-07-01 00:00:00</td>\n",
       "      <td>ruby</td>\n",
       "      <td>775</td>\n",
       "    </tr>\n",
       "    <tr>\n",
       "      <th>1989</th>\n",
       "      <td>2020-07-01 00:00:00</td>\n",
       "      <td>perl</td>\n",
       "      <td>182</td>\n",
       "    </tr>\n",
       "    <tr>\n",
       "      <th>1990</th>\n",
       "      <td>2020-07-01 00:00:00</td>\n",
       "      <td>swift</td>\n",
       "      <td>3607</td>\n",
       "    </tr>\n",
       "  </tbody>\n",
       "</table>\n",
       "</div>"
      ],
      "text/plain": [
       "                     DATE    TAG  POSTS\n",
       "1986  2020-07-01 00:00:00      r   5694\n",
       "1987  2020-07-01 00:00:00     go    743\n",
       "1988  2020-07-01 00:00:00   ruby    775\n",
       "1989  2020-07-01 00:00:00   perl    182\n",
       "1990  2020-07-01 00:00:00  swift   3607"
      ]
     },
     "execution_count": 5,
     "metadata": {},
     "output_type": "execute_result"
    }
   ],
   "source": [
    "# End of dataset\n",
    "df.tail()"
   ]
  },
  {
   "cell_type": "code",
   "execution_count": null,
   "id": "2209f532",
   "metadata": {
    "papermill": {
     "duration": 0.002096,
     "end_time": "2023-10-05T23:29:54.645689",
     "exception": false,
     "start_time": "2023-10-05T23:29:54.643593",
     "status": "completed"
    },
    "tags": []
   },
   "outputs": [],
   "source": []
  }
 ],
 "metadata": {
  "kernelspec": {
   "display_name": "Python 3",
   "language": "python",
   "name": "python3"
  },
  "language_info": {
   "codemirror_mode": {
    "name": "ipython",
    "version": 3
   },
   "file_extension": ".py",
   "mimetype": "text/x-python",
   "name": "python",
   "nbconvert_exporter": "python",
   "pygments_lexer": "ipython3",
   "version": "3.10.12"
  },
  "papermill": {
   "default_parameters": {},
   "duration": 3.619288,
   "end_time": "2023-10-05T23:29:54.965362",
   "environment_variables": {},
   "exception": null,
   "input_path": "__notebook__.ipynb",
   "output_path": "__notebook__.ipynb",
   "parameters": {},
   "start_time": "2023-10-05T23:29:51.346074",
   "version": "2.4.0"
  }
 },
 "nbformat": 4,
 "nbformat_minor": 5
}
